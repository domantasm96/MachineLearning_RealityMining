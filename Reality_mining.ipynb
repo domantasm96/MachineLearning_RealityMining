{
 "cells": [
  {
   "cell_type": "markdown",
   "metadata": {},
   "source": [
    "# Reality Mining. Jupyter Notebook implementation\n"
   ]
  },
  {
   "cell_type": "markdown",
   "metadata": {},
   "source": [
    "With scipy library realitymining mat file is red and saved in to data variable.\n",
    "Since mat lab contains a lot of data, reading process take a lot of computer resources!"
   ]
  },
  {
   "cell_type": "code",
   "execution_count": 1,
   "metadata": {},
   "outputs": [
    {
     "name": "stderr",
     "output_type": "stream",
     "text": [
      "/usr/lib/python3.6/importlib/_bootstrap.py:219: RuntimeWarning: compiletime version 3.5 of module 'tensorflow.python.framework.fast_tensor_util' does not match runtime version 3.6\n",
      "  return f(*args, **kwds)\n"
     ]
    }
   ],
   "source": [
    "import scipy.io\n",
    "import numpy as np\n",
    "from sklearn.model_selection import train_test_split\n",
    "import tensorflow as tf\n",
    "import math\n",
    "\n",
    "data = scipy.io.loadmat(\"realitymining.mat\")['s']"
   ]
  },
  {
   "cell_type": "code",
   "execution_count": 2,
   "metadata": {},
   "outputs": [],
   "source": [
    "affilation = data['my_affil']\n",
    "data_mat = data['data_mat']"
   ]
  },
  {
   "cell_type": "markdown",
   "metadata": {},
   "source": [
    "# Restricted Boltzmann machine"
   ]
  },
  {
   "cell_type": "markdown",
   "metadata": {},
   "source": [
    "### Data preprocessing.\n",
    "\n",
    "Extract data_mat elements for each subject, categorize subjects to sloan and no sloan and save index of subjects who belongs 'sloan' category."
   ]
  },
  {
   "cell_type": "code",
   "execution_count": 6,
   "metadata": {},
   "outputs": [],
   "source": [
    "sloan_list = []\n",
    "features_list = []\n",
    "\n",
    "for i in range(len(affilation[0])):\n",
    "    if len(data_mat[0][i]) > 0:\n",
    "        if len(data_mat[0][i][0]) > 6 and len(affilation[0][i]) > 0:\n",
    "            features_list += [data_mat[0][i]]\n",
    "            if affilation[0][i][0][0][0] == 'sloan' or affilation[0][i][0][0][0] == 'sloan_2':\n",
    "                sloan_list += [i]"
   ]
  },
  {
   "cell_type": "markdown",
   "metadata": {},
   "source": [
    "### Exclude NaN values.\n",
    "Change all NaN values to value 4 in feature_list data."
   ]
  },
  {
   "cell_type": "code",
   "execution_count": 7,
   "metadata": {},
   "outputs": [],
   "source": [
    "import math\n",
    "\n",
    "for subject in range(len(features_list)):\n",
    "    for hour in range(len(features_list[subject])):\n",
    "        for element in range(len(features_list[subject][hour])):\n",
    "            if math.isnan(features_list[subject][hour][element]):\n",
    "                features_list[subject][hour][element] = 4"
   ]
  },
  {
   "cell_type": "markdown",
   "metadata": {},
   "source": [
    "### Creating Features vector for training and testing.\n",
    "<br>\n",
    "__observation data__ -  value of how many days subject activity is stored. By default we have one week - 7 days.\n",
    "<br>\n",
    "__all_places__ - it is a list of all possible places in data_set :\n",
    "\n",
    " Value | Explanation\n",
    "  -------------  | -------------\n",
    "  0 | No signal\n",
    "  1 | Home\n",
    "  2 | Work\n",
    "  3 | Elsewhere\n",
    "  4 | Phone is off\n",
    "<br>\n",
    "__count__ - Current index of element position in features vector.\n",
    "<br>\n",
    "__features__ - 3-rd dimensional numpy N-darray for storing features for RBM training:\n",
    "<br>\n",
    "* 1-st dimension - Subject\n",
    "* 2-nd dimension - Observation days\n",
    "* 3-rd dimension - 24 hours for each place\n",
    "\n"
   ]
  },
  {
   "cell_type": "code",
   "execution_count": 10,
   "metadata": {},
   "outputs": [
    {
     "name": "stdout",
     "output_type": "stream",
     "text": [
      "[[[ 0.  0.  0. ...,  0.  0.  0.]\n",
      "  [ 0.  0.  0. ...,  0.  0.  0.]\n",
      "  [ 0.  0.  0. ...,  0.  0.  0.]\n",
      "  ..., \n",
      "  [ 0.  0.  0. ...,  0.  0.  0.]\n",
      "  [ 0.  0.  0. ...,  0.  0.  0.]\n",
      "  [ 0.  0.  0. ...,  0.  0.  0.]]\n",
      "\n",
      " [[ 0.  0.  0. ...,  0.  0.  0.]\n",
      "  [ 0.  0.  0. ...,  0.  0.  0.]\n",
      "  [ 0.  0.  0. ...,  0.  0.  0.]\n",
      "  ..., \n",
      "  [ 0.  0.  0. ...,  0.  0.  0.]\n",
      "  [ 0.  0.  0. ...,  0.  0.  0.]\n",
      "  [ 0.  0.  0. ...,  0.  0.  0.]]\n",
      "\n",
      " [[ 0.  0.  0. ...,  1.  1.  1.]\n",
      "  [ 0.  0.  0. ...,  1.  1.  1.]\n",
      "  [ 0.  0.  0. ...,  1.  1.  1.]\n",
      "  ..., \n",
      "  [ 0.  0.  0. ...,  1.  1.  1.]\n",
      "  [ 0.  0.  0. ...,  1.  1.  1.]\n",
      "  [ 0.  0.  0. ...,  1.  1.  1.]]\n",
      "\n",
      " ..., \n",
      " [[ 0.  0.  0. ...,  0.  0.  0.]\n",
      "  [ 0.  0.  0. ...,  0.  0.  0.]\n",
      "  [ 0.  0.  0. ...,  0.  0.  0.]\n",
      "  ..., \n",
      "  [ 0.  0.  0. ...,  0.  0.  0.]\n",
      "  [ 0.  0.  0. ...,  0.  0.  0.]\n",
      "  [ 0.  0.  0. ...,  0.  0.  0.]]\n",
      "\n",
      " [[ 0.  0.  0. ...,  0.  0.  0.]\n",
      "  [ 0.  0.  0. ...,  0.  0.  0.]\n",
      "  [ 0.  0.  0. ...,  0.  0.  0.]\n",
      "  ..., \n",
      "  [ 0.  0.  0. ...,  0.  0.  0.]\n",
      "  [ 0.  0.  0. ...,  0.  0.  0.]\n",
      "  [ 0.  0.  0. ...,  0.  0.  0.]]\n",
      "\n",
      " [[ 0.  0.  0. ...,  0.  0.  0.]\n",
      "  [ 0.  0.  0. ...,  0.  0.  0.]\n",
      "  [ 0.  0.  0. ...,  0.  0.  0.]\n",
      "  ..., \n",
      "  [ 0.  0.  0. ...,  0.  0.  0.]\n",
      "  [ 0.  0.  0. ...,  0.  0.  0.]\n",
      "  [ 0.  0.  0. ...,  0.  0.  0.]]]\n"
     ]
    }
   ],
   "source": [
    "#  0 – no signal, 1 – home, 2 – work, 3 – elsewhere, 4 – phone is off\n",
    "\n",
    "observation_time = 7\n",
    "all_places = [0, 1, 2, 3, 4]\n",
    "count = 0\n",
    "\n",
    "features = np.zeros((len(features_list), observation_time , 24 * len(all_places)))\n",
    "\n",
    "for subject in range(len(features_list)):\n",
    "    for week in range(observation_time):\n",
    "        for number in range(len(all_places)):\n",
    "            for hours in range(24):\n",
    "                if features_list[subject][hours][0] == all_places[number]:\n",
    "                    features[subject][week][count] = 1\n",
    "                count += 1\n",
    "        count = 0\n",
    "\n",
    "# print(features)\n",
    "# print(features[1][0][:24]) # No signal\n",
    "# print(features[1][0][24:48]) # Home\n",
    "# print(features[1][0][48:72]) # Work\n",
    "# print(features[1][0][72:96]) # Elsewhere\n",
    "# print(features[1][0][96:120]) # Phone is off"
   ]
  },
  {
   "cell_type": "markdown",
   "metadata": {},
   "source": [
    "# Multi-layer perceptron with tensorflow"
   ]
  },
  {
   "cell_type": "code",
   "execution_count": null,
   "metadata": {},
   "outputs": [],
   "source": [
    "for i in range(len(affilation[0])):\n",
    "    if len(affilation[0][i]) > 0 and len(data_mat[0][i]) > 0:\n",
    "        affilation_list += [affilation[0][i][0][0]]\n",
    "        matdata_list += [data_mat[0][i].tolist()]\n",
    "        if affilation_list[len(affilation_list)-1] == 'sloan' or affilation_list[len(affilation_list)-1] == 'sloan_2':\n",
    "            affilation_list[len(affilation_list)-1] = [1]\n",
    "#             affilation_list[len(affilation_list)-1] = [0,1]\n",
    "        else:\n",
    "            affilation_list[len(affilation_list)-1] = [0]"
   ]
  },
  {
   "cell_type": "code",
   "execution_count": 184,
   "metadata": {},
   "outputs": [],
   "source": [
    "'''\n",
    "### Classifier explanation ###\n",
    "### 2 categories: sloan or no_sloan ###\n",
    "### sloan = 1; no_sloan = 0 ###\n",
    "'''\n",
    "affilation_list = []\n",
    "matdata_list = []\n",
    "for i in range(len(affilation[0])):\n",
    "    if len(affilation[0][i]) > 0 and len(data_mat[0][i]) > 0:\n",
    "        affilation_list += [affilation[0][i][0][0]]\n",
    "        matdata_list += [data_mat[0][i].tolist()]\n",
    "        if affilation_list[len(affilation_list)-1] == 'sloan' or affilation_list[len(affilation_list)-1] == 'sloan_2':\n",
    "            affilation_list[len(affilation_list)-1] = [1]\n",
    "#             affilation_list[len(affilation_list)-1] = [0,1]\n",
    "        else:\n",
    "            affilation_list[len(affilation_list)-1] = [0]\n",
    "#             affilation_list[len(affilation_list)-1] = [1,0]\n",
    "# print(np.array(affilation_list))"
   ]
  },
  {
   "cell_type": "code",
   "execution_count": 190,
   "metadata": {
    "scrolled": false
   },
   "outputs": [],
   "source": [
    "# 1 – home, 2 – work, 3 – elsewhere, 0 – no signal, NaN – phone is off\n",
    "home, work, elsewhere, no_signal, phone_off = 0, 0, 0, 0, 0\n",
    "work = 0\n",
    "elsewhere = 0\n",
    "no_signal = 0\n",
    "phone_off = 0\n",
    "frequency = []\n",
    "all_frequency = []\n",
    "for subject in range(len(matdata_list)):\n",
    "    for hours in range(24):\n",
    "        for elements in range(len(matdata_list[subject][hours])):\n",
    "            if matdata_list[subject][hours][elements] == 1:\n",
    "                home += 1\n",
    "            elif matdata_list[subject][hours][elements] == 2:\n",
    "                work += 1\n",
    "            elif matdata_list[subject][hours][elements] == 3:\n",
    "                elsewhere += 1\n",
    "            elif matdata_list[subject][hours][elements] == 0:\n",
    "                no_signal += 1\n",
    "            else:\n",
    "                phone_off += 1\n",
    "        frequency += [home/len(matdata_list[subject][hours]) if home !=0 else 0, \n",
    "                     work/len(matdata_list[subject][hours]) if  work !=0 else 0, \n",
    "                     elsewhere/len(matdata_list[subject][hours]) if elsewhere !=0 else 0, \n",
    "#                      no_signal/len(matdata_list[subject][hours]) if no_signal !=0 else 0,\n",
    "                     phone_off/len(matdata_list[subject][hours]) if phone_off !=0 else 0]\n",
    "        home, work, elsewhere, no_signal, phone_off = 0, 0, 0, 0, 0\n",
    "    all_frequency += [frequency]\n",
    "    frequency = []\n",
    "features = np.array(all_frequency)\n",
    "labels = np.array(affilation_list)"
   ]
  },
  {
   "cell_type": "code",
   "execution_count": 214,
   "metadata": {},
   "outputs": [
    {
     "name": "stdout",
     "output_type": "stream",
     "text": [
      "96\n"
     ]
    }
   ],
   "source": [
    "# Parameters that define the MLP\n",
    "n_inputs = len(X_train[0])\n",
    "n_hidden1 = 300\n",
    "n_hidden2 = 100\n",
    "n_outputs = 2\n",
    "X = tf.placeholder(tf.float32, shape= (None, n_inputs), name=\"X\")\n",
    "y = tf.placeholder(tf.int64, shape=(None), name=\"y\")"
   ]
  },
  {
   "cell_type": "code",
   "execution_count": null,
   "metadata": {},
   "outputs": [],
   "source": [
    "X_train, X_test, y_train, y_test = train_test_split(features, labels.ravel(), test_size=0.5, random_state=0)"
   ]
  },
  {
   "cell_type": "code",
   "execution_count": 215,
   "metadata": {},
   "outputs": [],
   "source": [
    "def neuron_layer(X, n_neurons, name, activation=None):\n",
    "    with tf.name_scope(name):\n",
    "        # Number of inputs\n",
    "        n_inputs = int(X.get_shape()[1])\n",
    "        \n",
    "        # This value is computed to randomly initialize the weights\n",
    "        stddev = 2 / np.sqrt(n_inputs)\n",
    "        # Weigths can be initialized in different ways\n",
    "        # Here they are randomly initialized from a Normal distribution (mean=0,std as computed before)\n",
    "        # Notice that weights are organized in a matrix (tensor) and its number is n_inputs*n_neurons\n",
    "        init = tf.truncated_normal((n_inputs, n_neurons), stddev=stddev)\n",
    "        # The variable that will contain the weights is W\n",
    "        W = tf.Variable(init, name=\"kernel\")\n",
    "        \n",
    "        # The variable that will contain the bias is b  \n",
    "        # and is initialized to zero\n",
    "        b = tf.Variable(tf.zeros([n_neurons]), name=\"bias\")\n",
    "        \n",
    "        # As in the perceptron what the neurons do is multiply the weights by \n",
    "        # the input\n",
    "\n",
    "        Z = tf.matmul(X, W) + b\n",
    "        \n",
    "        # What the activation function does is to \"process\" the result\n",
    "        # of the multiplication of weights by inputs, and this is the output\n",
    "        # of every neuron. \n",
    "    \n",
    "        if activation is not None:\n",
    "            return activation(Z)\n",
    "        else:\n",
    "            return Z"
   ]
  },
  {
   "cell_type": "code",
   "execution_count": 216,
   "metadata": {},
   "outputs": [],
   "source": [
    "# The scope name for this MLP is \"dnn\"\n",
    "with tf.name_scope(\"dnn\"):\n",
    "    \n",
    "    # The first hidden layer is defined using the RELU activation function\n",
    "    # It will contain n_hidden1=300 hidden neurons and therefore output\n",
    "    # 300 values    \n",
    "    hidden1 = neuron_layer(X, n_hidden1, name=\"hidden1\", activation=tf.nn.relu)\n",
    "\n",
    "    # The second hidden layer is also defined using the RELU activation function\n",
    "    # It will contain n_hidden2=100 hidden neurons and therefore output\n",
    "    # 100 values    \n",
    "    hidden2 = neuron_layer(hidden1, n_hidden2, name=\"hidden2\", activation=tf.nn.relu)\n",
    "    \n",
    "    # The output layer does not use any activation function\n",
    "    # it will output n_outputs=10 values since there are 10 classes in MNIST\n",
    "    logits = neuron_layer(hidden2, n_outputs, name=\"outputs\")"
   ]
  },
  {
   "cell_type": "code",
   "execution_count": 217,
   "metadata": {},
   "outputs": [],
   "source": [
    "# scope name of the loss function is \"loss\"\n",
    "with tf.name_scope(\"loss\"):\n",
    "    \n",
    "    # The Loss function is defined. It outputs a loss value for each x\n",
    "    xentropy = tf.nn.sparse_softmax_cross_entropy_with_logits(labels=y, logits=logits)\n",
    "#     xentropy = tf.contrib.keras.backend.binary_crossentropy(output=n_inputs, target = n_inputs, from_logits=False)\n",
    "    \n",
    "    # The total loss is mean of the loss values \n",
    "    loss = tf.reduce_mean(xentropy, name=\"loss\")"
   ]
  },
  {
   "cell_type": "code",
   "execution_count": 218,
   "metadata": {},
   "outputs": [],
   "source": [
    "learning_rate = 0.01\n",
    "\n",
    "with tf.name_scope(\"train\"):\n",
    "    # The plain GradientDescentOptimizer is chosen\n",
    "    optimizer = tf.train.GradientDescentOptimizer(learning_rate)\n",
    "    training_op = optimizer.minimize(loss)"
   ]
  },
  {
   "cell_type": "code",
   "execution_count": 219,
   "metadata": {},
   "outputs": [],
   "source": [
    "with tf.name_scope(\"eval\"):\n",
    "    # A prediction is correct if it is among the k=1 most probable\n",
    "    # classes predicted by the NN. Since k=1, it is only correct\n",
    "    # if the prediction coincides with the true class.\n",
    "    correct = tf.nn.in_top_k(logits, y, 1)\n",
    "    \n",
    "    # The accuracy is the mean of correct predictions\n",
    "    accuracy = tf.reduce_mean(tf.cast(correct, tf.float32))"
   ]
  },
  {
   "cell_type": "code",
   "execution_count": 220,
   "metadata": {},
   "outputs": [
    {
     "name": "stdout",
     "output_type": "stream",
     "text": [
      "0 Train accuracy: 0.6 Val accuracy: 0.6\n",
      "1 Train accuracy: 0.628571 Val accuracy: 0.628571\n",
      "2 Train accuracy: 0.714286 Val accuracy: 0.628571\n",
      "3 Train accuracy: 0.714286 Val accuracy: 0.657143\n",
      "4 Train accuracy: 0.714286 Val accuracy: 0.657143\n",
      "5 Train accuracy: 0.714286 Val accuracy: 0.657143\n",
      "6 Train accuracy: 0.714286 Val accuracy: 0.685714\n",
      "7 Train accuracy: 0.714286 Val accuracy: 0.714286\n",
      "8 Train accuracy: 0.714286 Val accuracy: 0.714286\n",
      "9 Train accuracy: 0.714286 Val accuracy: 0.714286\n",
      "10 Train accuracy: 0.714286 Val accuracy: 0.714286\n",
      "11 Train accuracy: 0.714286 Val accuracy: 0.714286\n",
      "12 Train accuracy: 0.714286 Val accuracy: 0.714286\n",
      "13 Train accuracy: 0.714286 Val accuracy: 0.742857\n",
      "14 Train accuracy: 0.714286 Val accuracy: 0.742857\n",
      "15 Train accuracy: 0.714286 Val accuracy: 0.742857\n",
      "16 Train accuracy: 0.714286 Val accuracy: 0.742857\n",
      "17 Train accuracy: 0.742857 Val accuracy: 0.714286\n",
      "18 Train accuracy: 0.771429 Val accuracy: 0.714286\n",
      "19 Train accuracy: 0.771429 Val accuracy: 0.714286\n",
      "20 Train accuracy: 0.742857 Val accuracy: 0.714286\n",
      "21 Train accuracy: 0.742857 Val accuracy: 0.714286\n",
      "22 Train accuracy: 0.742857 Val accuracy: 0.714286\n",
      "23 Train accuracy: 0.742857 Val accuracy: 0.714286\n",
      "24 Train accuracy: 0.742857 Val accuracy: 0.714286\n",
      "25 Train accuracy: 0.742857 Val accuracy: 0.714286\n",
      "26 Train accuracy: 0.742857 Val accuracy: 0.714286\n",
      "27 Train accuracy: 0.742857 Val accuracy: 0.714286\n",
      "28 Train accuracy: 0.742857 Val accuracy: 0.714286\n",
      "29 Train accuracy: 0.742857 Val accuracy: 0.714286\n",
      "30 Train accuracy: 0.742857 Val accuracy: 0.714286\n",
      "31 Train accuracy: 0.742857 Val accuracy: 0.714286\n",
      "32 Train accuracy: 0.742857 Val accuracy: 0.714286\n",
      "33 Train accuracy: 0.742857 Val accuracy: 0.714286\n",
      "34 Train accuracy: 0.742857 Val accuracy: 0.714286\n",
      "35 Train accuracy: 0.742857 Val accuracy: 0.714286\n",
      "36 Train accuracy: 0.742857 Val accuracy: 0.714286\n",
      "37 Train accuracy: 0.742857 Val accuracy: 0.714286\n",
      "38 Train accuracy: 0.742857 Val accuracy: 0.742857\n",
      "39 Train accuracy: 0.742857 Val accuracy: 0.742857\n",
      "40 Train accuracy: 0.742857 Val accuracy: 0.742857\n",
      "41 Train accuracy: 0.742857 Val accuracy: 0.742857\n",
      "42 Train accuracy: 0.742857 Val accuracy: 0.742857\n",
      "43 Train accuracy: 0.742857 Val accuracy: 0.742857\n",
      "44 Train accuracy: 0.742857 Val accuracy: 0.742857\n",
      "45 Train accuracy: 0.742857 Val accuracy: 0.742857\n",
      "46 Train accuracy: 0.742857 Val accuracy: 0.742857\n",
      "47 Train accuracy: 0.742857 Val accuracy: 0.742857\n",
      "48 Train accuracy: 0.742857 Val accuracy: 0.742857\n",
      "49 Train accuracy: 0.742857 Val accuracy: 0.742857\n",
      "50 Train accuracy: 0.742857 Val accuracy: 0.742857\n",
      "51 Train accuracy: 0.742857 Val accuracy: 0.742857\n",
      "52 Train accuracy: 0.742857 Val accuracy: 0.742857\n",
      "53 Train accuracy: 0.742857 Val accuracy: 0.742857\n",
      "54 Train accuracy: 0.742857 Val accuracy: 0.742857\n",
      "55 Train accuracy: 0.742857 Val accuracy: 0.742857\n",
      "56 Train accuracy: 0.742857 Val accuracy: 0.742857\n",
      "57 Train accuracy: 0.742857 Val accuracy: 0.742857\n",
      "58 Train accuracy: 0.742857 Val accuracy: 0.742857\n",
      "59 Train accuracy: 0.742857 Val accuracy: 0.742857\n",
      "60 Train accuracy: 0.742857 Val accuracy: 0.742857\n",
      "61 Train accuracy: 0.742857 Val accuracy: 0.742857\n",
      "62 Train accuracy: 0.742857 Val accuracy: 0.742857\n",
      "63 Train accuracy: 0.771429 Val accuracy: 0.742857\n",
      "64 Train accuracy: 0.771429 Val accuracy: 0.714286\n",
      "65 Train accuracy: 0.771429 Val accuracy: 0.714286\n",
      "66 Train accuracy: 0.771429 Val accuracy: 0.685714\n",
      "67 Train accuracy: 0.771429 Val accuracy: 0.685714\n",
      "68 Train accuracy: 0.771429 Val accuracy: 0.685714\n",
      "69 Train accuracy: 0.771429 Val accuracy: 0.685714\n",
      "70 Train accuracy: 0.771429 Val accuracy: 0.685714\n",
      "71 Train accuracy: 0.771429 Val accuracy: 0.685714\n",
      "72 Train accuracy: 0.771429 Val accuracy: 0.685714\n",
      "73 Train accuracy: 0.771429 Val accuracy: 0.685714\n",
      "74 Train accuracy: 0.771429 Val accuracy: 0.685714\n",
      "75 Train accuracy: 0.771429 Val accuracy: 0.685714\n",
      "76 Train accuracy: 0.771429 Val accuracy: 0.685714\n",
      "77 Train accuracy: 0.771429 Val accuracy: 0.685714\n",
      "78 Train accuracy: 0.771429 Val accuracy: 0.685714\n",
      "79 Train accuracy: 0.771429 Val accuracy: 0.685714\n",
      "80 Train accuracy: 0.771429 Val accuracy: 0.685714\n",
      "81 Train accuracy: 0.771429 Val accuracy: 0.685714\n",
      "82 Train accuracy: 0.771429 Val accuracy: 0.685714\n",
      "83 Train accuracy: 0.8 Val accuracy: 0.685714\n",
      "84 Train accuracy: 0.8 Val accuracy: 0.685714\n",
      "85 Train accuracy: 0.8 Val accuracy: 0.685714\n",
      "86 Train accuracy: 0.8 Val accuracy: 0.685714\n",
      "87 Train accuracy: 0.8 Val accuracy: 0.685714\n",
      "88 Train accuracy: 0.8 Val accuracy: 0.685714\n",
      "89 Train accuracy: 0.8 Val accuracy: 0.685714\n",
      "90 Train accuracy: 0.8 Val accuracy: 0.685714\n",
      "91 Train accuracy: 0.8 Val accuracy: 0.685714\n",
      "92 Train accuracy: 0.8 Val accuracy: 0.685714\n",
      "93 Train accuracy: 0.8 Val accuracy: 0.685714\n",
      "94 Train accuracy: 0.8 Val accuracy: 0.685714\n",
      "95 Train accuracy: 0.8 Val accuracy: 0.685714\n",
      "96 Train accuracy: 0.8 Val accuracy: 0.685714\n",
      "97 Train accuracy: 0.8 Val accuracy: 0.685714\n",
      "98 Train accuracy: 0.8 Val accuracy: 0.685714\n",
      "99 Train accuracy: 0.8 Val accuracy: 0.685714\n"
     ]
    }
   ],
   "source": [
    "# Initialization of the computation graph\n",
    "init = tf.global_variables_initializer()\n",
    "\n",
    "# tensorflow allows to define a saver to store the model after learning\n",
    "saver = tf.train.Saver()\n",
    "\n",
    "# Number of epochs\n",
    "n_epochs = 100\n",
    "\n",
    "# Size of the batch used to update the gradient\n",
    "batch_size = 50\n",
    "\n",
    "with tf.Session() as sess:\n",
    "    init.run()\n",
    "    for epoch in range(n_epochs):\n",
    "        for iteration in range(70 // batch_size):\n",
    "            \n",
    "            #Function next_batch automatically select the batch\n",
    "#             X_batch, y_batch = mnist.train.next_batch(batch_size)\n",
    "            \n",
    "            # Weights are learned using the current batch            \n",
    "            sess.run(training_op, feed_dict={X: X_train, y: y_train})\n",
    "            \n",
    "        # Accuracies are computed in the training and validation sets    \n",
    "        acc_train = accuracy.eval(feed_dict={X:  X_train, y: y_train})\n",
    "        acc_val = accuracy.eval(feed_dict={X: X_test,\n",
    "                                            y: y_test})\n",
    "        print(epoch, \"Train accuracy:\", acc_train, \"Val accuracy:\", acc_val)\n",
    "\n",
    "    save_path = saver.save(sess, \"./my_model_final.ckpt\")\n"
   ]
  },
  {
   "cell_type": "markdown",
   "metadata": {},
   "source": [
    "## AUTOENCODER"
   ]
  },
  {
   "cell_type": "code",
   "execution_count": null,
   "metadata": {},
   "outputs": [],
   "source": [
    "# Since there are only three dimensions, the number of inputs is 3\n",
    "n_inputs = 70\n",
    "\n",
    "# Two neurons in the single hidden layers\n",
    "n_hidden = 2  \n",
    "\n",
    "# The number of inputs and outputs in the AE is always the same\n",
    "n_outputs = n_inputs\n",
    "\n",
    "\n",
    "reset_graph()\n",
    "learning_rate = 0.01\n",
    "X = tf.placeholder(tf.float32, shape=[None, n_inputs])\n",
    "\n",
    "# The hidden and output layers are defined using the\n",
    "# layers.dense function that does something similar to what \n",
    "# the function neuron_layer defined above does. You can see\n",
    "# other parameters of this function here: https://www.tensorflow.org/api_docs/python/tf/layers/dense\n",
    "hidden = tf.layers.dense(X, n_hidden, name='hidden_layer')\n",
    "outputs = tf.layers.dense(hidden, n_outputs)\n",
    "\n",
    "# The loss function is the mean-square error of the difference \n",
    "# between output and input\n",
    "reconstruction_loss = tf.reduce_mean(tf.square(outputs - X))\n",
    "\n",
    "# Adam optimizer is used\n",
    "optimizer = tf.train.AdamOptimizer(learning_rate)\n",
    "\n",
    "# Minimization of the reconstruction loss \n",
    "training_op = optimizer.minimize(reconstruction_loss)\n",
    "\n",
    "# The computation graph is initialized\n",
    "init = tf.global_variables_initializer()"
   ]
  },
  {
   "cell_type": "code",
   "execution_count": null,
   "metadata": {},
   "outputs": [],
   "source": [
    "# Number of iterations for the network\n",
    "n_iterations = 1000\n",
    "# Hidden layer \n",
    "codings = hidden\n",
    "\n",
    "# We will keep the weights of the \"hidden\" layer in the variable \"weights\"\n",
    "weights = tf.get_default_graph().get_tensor_by_name(os.path.split(hidden.name)[0] + '/kernel:0')\n",
    "\n",
    "# The AE is run\n",
    "with tf.Session() as sess:\n",
    "    init.run()\n",
    "    for iteration in range(n_iterations):\n",
    "        training_op.run(feed_dict={X: X_train})\n",
    "        \n",
    "    # We use the hidden layer as a function and it outputs\n",
    "    # 2-dimensional representation of the input\n",
    "    codings_val = codings.eval(feed_dict={X: X_test})\n",
    "\n",
    "    # We print the weights learned by the network\n",
    "    print(weights.eval())\n",
    " "
   ]
  }
 ],
 "metadata": {
  "kernelspec": {
   "display_name": "Python 3",
   "language": "python",
   "name": "python3"
  },
  "language_info": {
   "codemirror_mode": {
    "name": "ipython",
    "version": 3
   },
   "file_extension": ".py",
   "mimetype": "text/x-python",
   "name": "python",
   "nbconvert_exporter": "python",
   "pygments_lexer": "ipython3",
   "version": "3.6.3"
  }
 },
 "nbformat": 4,
 "nbformat_minor": 2
}
