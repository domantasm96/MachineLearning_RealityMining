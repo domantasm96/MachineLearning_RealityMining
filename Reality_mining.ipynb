{
 "cells": [
  {
   "cell_type": "markdown",
   "metadata": {},
   "source": [
    "# Reality Mining. Jupyter Notebook implementation\n"
   ]
  },
  {
   "cell_type": "markdown",
   "metadata": {},
   "source": [
    "With scipy library realitymining mat file is red and saved in to data variable.\n",
    "Since mat lab contains a lot of data, reading process take a lot of computer resources!"
   ]
  },
  {
   "cell_type": "code",
   "execution_count": 1,
   "metadata": {},
   "outputs": [],
   "source": [
    "import scipy.io\n",
    "import numpy as np\n",
    "data = scipy.io.loadmat(\"realitymining.mat\")['s']"
   ]
  },
  {
   "cell_type": "code",
   "execution_count": 2,
   "metadata": {},
   "outputs": [],
   "source": [
    "affilation = data['my_affil']\n",
    "data_mat = data['data_mat']"
   ]
  },
  {
   "cell_type": "code",
   "execution_count": 3,
   "metadata": {},
   "outputs": [
    {
     "name": "stdout",
     "output_type": "stream",
     "text": [
      "[[0], [0], [0], [0], [0], [0], [0], [1], [0], [0], [0], [0], [0], [0], [0], [0], [0], [0], [0], [0], [0], [0], [0], [0], [0], [0], [0], [0], [0], [1], [0], [1], [0], [1], [0], [1], [1], [1], [0], [1], [0], [0], [0], [0], [1], [0], [1], [0], [1], [0], [1], [1], [0], [0], [1], [0], [0], [1], [0], [1], [0], [1], [0], [1], [0], [1], [1], [0], [0], [0]]\n"
     ]
    }
   ],
   "source": [
    "'''\n",
    "### Classifier explanation ###\n",
    "### 2 categories: sloan or no_sloan ###\n",
    "### sloan = 1; no_sloan = 0 ###\n",
    "'''\n",
    "affilation_list = []\n",
    "matdata_list = []\n",
    "for i in range(len(affilation[0])):\n",
    "    if len(affilation[0][i]) > 0 and len(data_mat[0][i]) > 0:\n",
    "        affilation_list += [affilation[0][i][0][0]]\n",
    "        matdata_list += [data_mat[0][i].tolist()]\n",
    "        if affilation_list[len(affilation_list)-1] == 'sloan' or affilation_list[len(affilation_list)-1] == 'sloan_2':\n",
    "            affilation_list[len(affilation_list)-1] = [1]\n",
    "        else:\n",
    "            affilation_list[len(affilation_list)-1] = [0]\n",
    "print(affilation_list)"
   ]
  },
  {
   "cell_type": "code",
   "execution_count": 4,
   "metadata": {
    "scrolled": false
   },
   "outputs": [],
   "source": [
    "# 1 – home, 2 – work, 3 – elsewhere, 0 – no signal, NaN – phone is off\n",
    "home, work, elsewhere, no_signal, phone_off = 0, 0, 0, 0, 0\n",
    "work = 0\n",
    "elsewhere = 0\n",
    "no_signal = 0\n",
    "phone_off = 0\n",
    "frequency = []\n",
    "all_frequency = []\n",
    "for subject in range(len(matdata_list)):\n",
    "    for hours in range(24):\n",
    "        for elements in range(len(matdata_list[subject][hours])):\n",
    "            if matdata_list[subject][hours][elements] == 1:\n",
    "                home += 1\n",
    "            elif matdata_list[subject][hours][elements] == 2:\n",
    "                work += 1\n",
    "            elif matdata_list[subject][hours][elements] == 3:\n",
    "                elsewhere += 1\n",
    "            elif matdata_list[subject][hours][elements] == 0:\n",
    "                no_signal += 1\n",
    "            else:\n",
    "                phone_off += 1\n",
    "        frequency += [home/len(matdata_list[subject][hours]) if home !=0 else 0, \n",
    "                     work/len(matdata_list[subject][hours]) if  work !=0 else 0, \n",
    "                     elsewhere/len(matdata_list[subject][hours]) if elsewhere !=0 else 0, \n",
    "                     no_signal/len(matdata_list[subject][hours]) if no_signal !=0 else 0,\n",
    "                     phone_off/len(matdata_list[subject][hours]) if phone_off !=0 else 0]\n",
    "        home, work, elsewhere, no_signal, phone_off = 0, 0, 0, 0, 0\n",
    "    all_frequency += [frequency]\n",
    "    frequency = []\n",
    "features = np.array(all_frequency)"
   ]
  },
  {
   "cell_type": "code",
   "execution_count": 5,
   "metadata": {},
   "outputs": [
    {
     "name": "stdout",
     "output_type": "stream",
     "text": [
      "[[ 0.08333333  0.00694444  0.         ...,  0.00694444  0.42361111\n",
      "   0.49305556]\n",
      " [ 0.47777778  0.01111111  0.18333333 ...,  0.24444444  0.04444444\n",
      "   0.27777778]\n",
      " [ 0.          0.03067485  0.01226994 ...,  0.02453988  0.60122699\n",
      "   0.35582822]\n",
      " ..., \n",
      " [ 0.          0.46078431  0.39215686 ...,  0.37254902  0.10784314\n",
      "   0.04901961]\n",
      " [ 0.66304348  0.04347826  0.15217391 ...,  0.23913043  0.0326087\n",
      "   0.08695652]\n",
      " [ 0.85483871  0.03225806  0.01612903 ...,  0.06451613  0.03225806\n",
      "   0.0483871 ]]\n"
     ]
    }
   ],
   "source": [
    "print(features)"
   ]
  },
  {
   "cell_type": "code",
   "execution_count": null,
   "metadata": {},
   "outputs": [],
   "source": []
  }
 ],
 "metadata": {
  "kernelspec": {
   "display_name": "Python 3",
   "language": "python",
   "name": "python3"
  },
  "language_info": {
   "codemirror_mode": {
    "name": "ipython",
    "version": 3
   },
   "file_extension": ".py",
   "mimetype": "text/x-python",
   "name": "python",
   "nbconvert_exporter": "python",
   "pygments_lexer": "ipython3",
   "version": "3.6.3"
  }
 },
 "nbformat": 4,
 "nbformat_minor": 2
}
