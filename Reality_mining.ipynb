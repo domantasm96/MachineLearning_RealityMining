{
 "cells": [
  {
   "cell_type": "markdown",
   "metadata": {},
   "source": [
    "# Reality Mining. Jupyter Notebook implementation\n"
   ]
  },
  {
   "cell_type": "markdown",
   "metadata": {},
   "source": [
    "With scipy library realitymining mat file is red and saved in to data variable.\n",
    "Since mat lab contains a lot of data, reading process take a lot of computer resources!"
   ]
  },
  {
   "cell_type": "code",
   "execution_count": 1,
   "metadata": {},
   "outputs": [
    {
     "name": "stderr",
     "output_type": "stream",
     "text": [
      "/usr/lib/python3.6/importlib/_bootstrap.py:219: RuntimeWarning: compiletime version 3.5 of module 'tensorflow.python.framework.fast_tensor_util' does not match runtime version 3.6\n",
      "  return f(*args, **kwds)\n"
     ]
    }
   ],
   "source": [
    "import scipy.io\n",
    "import numpy as np\n",
    "from sklearn.model_selection import train_test_split\n",
    "import tensorflow as tf\n",
    "import math\n",
    "from sklearn.neural_network import BernoulliRBM\n",
    "\n",
    "data = scipy.io.loadmat(\"realitymining.mat\")['s']"
   ]
  },
  {
   "cell_type": "code",
   "execution_count": 2,
   "metadata": {},
   "outputs": [],
   "source": [
    "affilation = data['my_affil']\n",
    "data_mat = data['data_mat']"
   ]
  },
  {
   "cell_type": "markdown",
   "metadata": {},
   "source": [
    "# Restricted Boltzmann machine"
   ]
  },
  {
   "cell_type": "markdown",
   "metadata": {},
   "source": [
    "### Data preprocessing.\n",
    "\n",
    "Extract data_mat elements for each subject, categorize subjects to sloan and no sloan and save index of subjects who belongs 'sloan' category."
   ]
  },
  {
   "cell_type": "code",
   "execution_count": 3,
   "metadata": {},
   "outputs": [],
   "source": [
    "sloan_list = []\n",
    "features_list = []\n",
    "observation_days = 7\n",
    "count = 0\n",
    "\n",
    "for i in range(len(affilation[0])):\n",
    "    if len(data_mat[0][i]) > 0:\n",
    "        if len(data_mat[0][i][0]) >= observation_days and len(affilation[0][i]) > 0:\n",
    "            features_list += [data_mat[0][i]]\n",
    "            if affilation[0][i][0][0][0] == 'sloan' or affilation[0][i][0][0][0] == 'sloan_2':\n",
    "                sloan_list += [count]\n",
    "            count += 1"
   ]
  },
  {
   "cell_type": "markdown",
   "metadata": {},
   "source": [
    "### Exclude NaN values.\n",
    "Change all NaN values to value 4 in feature_list data."
   ]
  },
  {
   "cell_type": "code",
   "execution_count": 4,
   "metadata": {},
   "outputs": [],
   "source": [
    "for subject in range(len(features_list)):\n",
    "    for hour in range(len(features_list[subject])):\n",
    "        for element in range(len(features_list[subject][hour])):\n",
    "            if math.isnan(features_list[subject][hour][element]):\n",
    "                features_list[subject][hour][element] = 4"
   ]
  },
  {
   "cell_type": "markdown",
   "metadata": {},
   "source": [
    "### Creating Features vector for training and testing.\n",
    "<br>\n",
    "__observation data__ -  value of how many days subject activity is stored. By default we have one week - 7 days.\n",
    "<br>\n",
    "__all_places__ - it is a list of all possible places in data_set :\n",
    "\n",
    " Value | Explanation\n",
    "  -------------  | -------------\n",
    "  0 | No signal\n",
    "  1 | Home\n",
    "  2 | Work\n",
    "  3 | Elsewhere\n",
    "  4 | Phone is off\n",
    "<br>\n",
    "__count__ - Current index of element position in features vector.\n",
    "<br>\n",
    "__features__ - 2-rd dimensional numpy N-darray for storing features for RBM training:\n",
    "<br>\n",
    "* 1-st dimension - Subject\n",
    "* 2-nd dimension - Subject activity each hour of the week.\n",
    "\n"
   ]
  },
  {
   "cell_type": "code",
   "execution_count": 5,
   "metadata": {},
   "outputs": [],
   "source": [
    "#  0 – no signal, 1 – home, 2 – work, 3 – elsewhere, 4 – phone is off\n",
    "\n",
    "all_places = [0, 1, 2, 3, 4]\n",
    "count = 0\n",
    "\n",
    "features = np.zeros((len(features_list), observation_days * 24 * len(all_places)))\n",
    "\n",
    "for subject in range(len(features_list)):\n",
    "    for number in range(len(all_places)):\n",
    "        for week in range(observation_days):\n",
    "            for hours in range(24):\n",
    "                if features_list[subject][hours][week] == all_places[number]:\n",
    "                    features[subject][count] = 1\n",
    "                count += 1\n",
    "    count = 0"
   ]
  },
  {
   "cell_type": "code",
   "execution_count": 6,
   "metadata": {},
   "outputs": [
    {
     "name": "stdout",
     "output_type": "stream",
     "text": [
      "[BernoulliRBM] Iteration 1, pseudo-likelihood = -525.89, time = 0.07s\n",
      "[BernoulliRBM] Iteration 2, pseudo-likelihood = -513.22, time = 0.04s\n",
      "[BernoulliRBM] Iteration 3, pseudo-likelihood = -386.14, time = 0.01s\n",
      "[BernoulliRBM] Iteration 4, pseudo-likelihood = -364.58, time = 0.01s\n",
      "[BernoulliRBM] Iteration 5, pseudo-likelihood = -384.30, time = 0.01s\n",
      "[BernoulliRBM] Iteration 6, pseudo-likelihood = -372.57, time = 0.01s\n",
      "[BernoulliRBM] Iteration 7, pseudo-likelihood = -364.58, time = 0.01s\n",
      "[BernoulliRBM] Iteration 8, pseudo-likelihood = -453.69, time = 0.01s\n",
      "[BernoulliRBM] Iteration 9, pseudo-likelihood = -385.44, time = 0.01s\n",
      "[BernoulliRBM] Iteration 10, pseudo-likelihood = -240.16, time = 0.01s\n",
      "[BernoulliRBM] Iteration 11, pseudo-likelihood = -257.39, time = 0.01s\n",
      "[BernoulliRBM] Iteration 12, pseudo-likelihood = -317.14, time = 0.01s\n",
      "[BernoulliRBM] Iteration 13, pseudo-likelihood = -265.26, time = 0.01s\n",
      "[BernoulliRBM] Iteration 14, pseudo-likelihood = -264.80, time = 0.01s\n",
      "[BernoulliRBM] Iteration 15, pseudo-likelihood = -309.71, time = 0.01s\n",
      "[BernoulliRBM] Iteration 16, pseudo-likelihood = -174.50, time = 0.01s\n",
      "[BernoulliRBM] Iteration 17, pseudo-likelihood = -367.43, time = 0.01s\n",
      "[BernoulliRBM] Iteration 18, pseudo-likelihood = -253.03, time = 0.01s\n",
      "[BernoulliRBM] Iteration 19, pseudo-likelihood = -242.21, time = 0.01s\n",
      "[BernoulliRBM] Iteration 20, pseudo-likelihood = -326.06, time = 0.01s\n",
      "[BernoulliRBM] Iteration 21, pseudo-likelihood = -326.53, time = 0.01s\n",
      "[BernoulliRBM] Iteration 22, pseudo-likelihood = -285.40, time = 0.01s\n",
      "[BernoulliRBM] Iteration 23, pseudo-likelihood = -280.10, time = 0.01s\n",
      "[BernoulliRBM] Iteration 24, pseudo-likelihood = -302.34, time = 0.01s\n",
      "[BernoulliRBM] Iteration 25, pseudo-likelihood = -244.81, time = 0.01s\n",
      "[BernoulliRBM] Iteration 26, pseudo-likelihood = -364.98, time = 0.01s\n",
      "[BernoulliRBM] Iteration 27, pseudo-likelihood = -306.20, time = 0.01s\n",
      "[BernoulliRBM] Iteration 28, pseudo-likelihood = -324.81, time = 0.01s\n",
      "[BernoulliRBM] Iteration 29, pseudo-likelihood = -285.23, time = 0.01s\n",
      "[BernoulliRBM] Iteration 30, pseudo-likelihood = -207.56, time = 0.03s\n",
      "[BernoulliRBM] Iteration 31, pseudo-likelihood = -278.03, time = 0.01s\n",
      "[BernoulliRBM] Iteration 32, pseudo-likelihood = -247.64, time = 0.01s\n",
      "[BernoulliRBM] Iteration 33, pseudo-likelihood = -306.83, time = 0.01s\n",
      "[BernoulliRBM] Iteration 34, pseudo-likelihood = -247.31, time = 0.01s\n",
      "[BernoulliRBM] Iteration 35, pseudo-likelihood = -281.03, time = 0.01s\n",
      "[BernoulliRBM] Iteration 36, pseudo-likelihood = -276.72, time = 0.01s\n",
      "[BernoulliRBM] Iteration 37, pseudo-likelihood = -278.69, time = 0.01s\n",
      "[BernoulliRBM] Iteration 38, pseudo-likelihood = -374.87, time = 0.01s\n",
      "[BernoulliRBM] Iteration 39, pseudo-likelihood = -296.12, time = 0.01s\n",
      "[BernoulliRBM] Iteration 40, pseudo-likelihood = -229.71, time = 0.01s\n",
      "[BernoulliRBM] Iteration 41, pseudo-likelihood = -214.19, time = 0.01s\n",
      "[BernoulliRBM] Iteration 42, pseudo-likelihood = -247.30, time = 0.01s\n",
      "[BernoulliRBM] Iteration 43, pseudo-likelihood = -368.68, time = 0.01s\n",
      "[BernoulliRBM] Iteration 44, pseudo-likelihood = -197.96, time = 0.01s\n",
      "[BernoulliRBM] Iteration 45, pseudo-likelihood = -245.41, time = 0.01s\n",
      "[BernoulliRBM] Iteration 46, pseudo-likelihood = -239.57, time = 0.01s\n",
      "[BernoulliRBM] Iteration 47, pseudo-likelihood = -240.22, time = 0.01s\n",
      "[BernoulliRBM] Iteration 48, pseudo-likelihood = -216.92, time = 0.01s\n",
      "[BernoulliRBM] Iteration 49, pseudo-likelihood = -296.62, time = 0.01s\n",
      "[BernoulliRBM] Iteration 50, pseudo-likelihood = -259.21, time = 0.01s\n"
     ]
    }
   ],
   "source": [
    "rbm_list = []  \n",
    "sk_rbm = BernoulliRBM(n_components=10, verbose=True, learning_rate=0.1, n_iter=50)\n",
    "sk_rbm.fit(features)\n",
    "rbm_list = sk_rbm.transform(features)"
   ]
  },
  {
   "cell_type": "markdown",
   "metadata": {},
   "source": [
    "# Multi-layer perceptron with tensorflow"
   ]
  },
  {
   "cell_type": "markdown",
   "metadata": {},
   "source": [
    "### Labels creation for Multi-layer perceptron\n",
    "Each subject is classified to sloan or no_sloan.\n",
    "<br>\n",
    "If subject belongs to __sloan__ cateogy, his label value is equal __1__.\n",
    "<br>\n",
    "If subject belongs to __no sloan__ category, his label value is equal __0__."
   ]
  },
  {
   "cell_type": "code",
   "execution_count": 8,
   "metadata": {
    "scrolled": false
   },
   "outputs": [],
   "source": [
    "labels = []\n",
    "\n",
    "for i in range(len(features)):\n",
    "    if i in sloan_list:\n",
    "        labels += [1]\n",
    "    else:\n",
    "        labels += [0]\n",
    "        \n",
    "labels = np.array(labels)"
   ]
  },
  {
   "cell_type": "code",
   "execution_count": 9,
   "metadata": {},
   "outputs": [],
   "source": [
    "X_train, X_test, y_train, y_test = train_test_split(rbm_list, labels.ravel(), test_size=0.5, random_state=0)\n",
    "# Parameters that define the MLP\n",
    "n_inputs = len(X_train[0])\n",
    "n_hidden1 = 300\n",
    "n_hidden2 = 100\n",
    "n_outputs = 2\n",
    "X = tf.placeholder(tf.float32, shape= (None, n_inputs), name=\"X\")\n",
    "y = tf.placeholder(tf.int64, shape=(None), name=\"y\")"
   ]
  },
  {
   "cell_type": "code",
   "execution_count": 10,
   "metadata": {},
   "outputs": [],
   "source": [
    "def neuron_layer(X, n_neurons, name, activation=None):\n",
    "    with tf.name_scope(name):\n",
    "        # Number of inputs\n",
    "        n_inputs = int(X.get_shape()[1])\n",
    "        \n",
    "        # This value is computed to randomly initialize the weights\n",
    "        stddev = 2 / np.sqrt(n_inputs)\n",
    "        # Weigths can be initialized in different ways\n",
    "        # Here they are randomly initialized from a Normal distribution (mean=0,std as computed before)\n",
    "        # Notice that weights are organized in a matrix (tensor) and its number is n_inputs*n_neurons\n",
    "        init = tf.truncated_normal((n_inputs, n_neurons), stddev=stddev)\n",
    "        # The variable that will contain the weights is W\n",
    "        W = tf.Variable(init, name=\"kernel\")\n",
    "        \n",
    "        # The variable that will contain the bias is b  \n",
    "        # and is initialized to zero\n",
    "        b = tf.Variable(tf.zeros([n_neurons]), name=\"bias\")\n",
    "        \n",
    "        # As in the perceptron what the neurons do is multiply the weights by \n",
    "        # the input\n",
    "\n",
    "        Z = tf.matmul(X, W) + b\n",
    "        \n",
    "        # What the activation function does is to \"process\" the result\n",
    "        # of the multiplication of weights by inputs, and this is the output\n",
    "        # of every neuron. \n",
    "    \n",
    "        if activation is not None:\n",
    "            return activation(Z)\n",
    "        else:\n",
    "            return Z"
   ]
  },
  {
   "cell_type": "code",
   "execution_count": 11,
   "metadata": {},
   "outputs": [],
   "source": [
    "# The scope name for this MLP is \"dnn\"\n",
    "with tf.name_scope(\"dnn\"):\n",
    "    \n",
    "    # The first hidden layer is defined using the RELU activation function\n",
    "    # It will contain n_hidden1=300 hidden neurons and therefore output\n",
    "    # 300 values    \n",
    "    hidden1 = neuron_layer(X, n_hidden1, name=\"hidden1\", activation=tf.nn.relu)\n",
    "\n",
    "    # The second hidden layer is also defined using the RELU activation function\n",
    "    # It will contain n_hidden2=100 hidden neurons and therefore output\n",
    "    # 100 values    \n",
    "    hidden2 = neuron_layer(hidden1, n_hidden2, name=\"hidden2\", activation=tf.nn.relu)\n",
    "    \n",
    "    # The output layer does not use any activation function\n",
    "    # it will output n_outputs=10 values since there are 10 classes in MNIST\n",
    "    logits = neuron_layer(hidden2, n_outputs, name=\"outputs\")"
   ]
  },
  {
   "cell_type": "code",
   "execution_count": 12,
   "metadata": {},
   "outputs": [],
   "source": [
    "# scope name of the loss function is \"loss\"\n",
    "with tf.name_scope(\"loss\"):\n",
    "    \n",
    "    # The Loss function is defined. It outputs a loss value for each x\n",
    "    xentropy = tf.nn.sparse_softmax_cross_entropy_with_logits(labels=y, logits=logits)\n",
    "#     xentropy = tf.contrib.keras.backend.binary_crossentropy(output=n_inputs, target = n_inputs, from_logits=False)\n",
    "    \n",
    "    # The total loss is mean of the loss values \n",
    "    loss = tf.reduce_mean(xentropy, name=\"loss\")"
   ]
  },
  {
   "cell_type": "code",
   "execution_count": 13,
   "metadata": {},
   "outputs": [],
   "source": [
    "learning_rate = 0.01\n",
    "\n",
    "with tf.name_scope(\"train\"):\n",
    "    # The plain GradientDescentOptimizer is chosen\n",
    "    optimizer = tf.train.GradientDescentOptimizer(learning_rate)\n",
    "    training_op = optimizer.minimize(loss)"
   ]
  },
  {
   "cell_type": "code",
   "execution_count": 14,
   "metadata": {},
   "outputs": [],
   "source": [
    "with tf.name_scope(\"eval\"):\n",
    "    # A prediction is correct if it is among the k=1 most probable\n",
    "    # classes predicted by the NN. Since k=1, it is only correct\n",
    "    # if the prediction coincides with the true class.\n",
    "    correct = tf.nn.in_top_k(logits, y, 1)\n",
    "    \n",
    "    # The accuracy is the mean of correct predictions\n",
    "    accuracy = tf.reduce_mean(tf.cast(correct, tf.float32))"
   ]
  },
  {
   "cell_type": "code",
   "execution_count": 15,
   "metadata": {},
   "outputs": [
    {
     "name": "stdout",
     "output_type": "stream",
     "text": [
      "0 Train accuracy: 0.735294 Val accuracy: 0.657143\n",
      "1 Train accuracy: 0.735294 Val accuracy: 0.685714\n",
      "2 Train accuracy: 0.735294 Val accuracy: 0.685714\n",
      "3 Train accuracy: 0.735294 Val accuracy: 0.685714\n",
      "4 Train accuracy: 0.764706 Val accuracy: 0.685714\n",
      "5 Train accuracy: 0.764706 Val accuracy: 0.685714\n",
      "6 Train accuracy: 0.764706 Val accuracy: 0.685714\n",
      "7 Train accuracy: 0.764706 Val accuracy: 0.685714\n",
      "8 Train accuracy: 0.764706 Val accuracy: 0.657143\n",
      "9 Train accuracy: 0.764706 Val accuracy: 0.657143\n",
      "10 Train accuracy: 0.764706 Val accuracy: 0.657143\n",
      "11 Train accuracy: 0.764706 Val accuracy: 0.657143\n",
      "12 Train accuracy: 0.764706 Val accuracy: 0.657143\n",
      "13 Train accuracy: 0.764706 Val accuracy: 0.685714\n",
      "14 Train accuracy: 0.764706 Val accuracy: 0.685714\n",
      "15 Train accuracy: 0.764706 Val accuracy: 0.685714\n",
      "16 Train accuracy: 0.764706 Val accuracy: 0.685714\n",
      "17 Train accuracy: 0.764706 Val accuracy: 0.685714\n",
      "18 Train accuracy: 0.764706 Val accuracy: 0.685714\n",
      "19 Train accuracy: 0.794118 Val accuracy: 0.685714\n",
      "20 Train accuracy: 0.823529 Val accuracy: 0.685714\n",
      "21 Train accuracy: 0.823529 Val accuracy: 0.685714\n",
      "22 Train accuracy: 0.823529 Val accuracy: 0.685714\n",
      "23 Train accuracy: 0.823529 Val accuracy: 0.685714\n",
      "24 Train accuracy: 0.823529 Val accuracy: 0.685714\n",
      "25 Train accuracy: 0.823529 Val accuracy: 0.685714\n",
      "26 Train accuracy: 0.823529 Val accuracy: 0.685714\n",
      "27 Train accuracy: 0.823529 Val accuracy: 0.685714\n",
      "28 Train accuracy: 0.823529 Val accuracy: 0.685714\n",
      "29 Train accuracy: 0.823529 Val accuracy: 0.685714\n",
      "30 Train accuracy: 0.823529 Val accuracy: 0.685714\n",
      "31 Train accuracy: 0.823529 Val accuracy: 0.685714\n",
      "32 Train accuracy: 0.823529 Val accuracy: 0.685714\n",
      "33 Train accuracy: 0.823529 Val accuracy: 0.685714\n",
      "34 Train accuracy: 0.823529 Val accuracy: 0.685714\n",
      "35 Train accuracy: 0.823529 Val accuracy: 0.685714\n",
      "36 Train accuracy: 0.823529 Val accuracy: 0.685714\n",
      "37 Train accuracy: 0.852941 Val accuracy: 0.685714\n",
      "38 Train accuracy: 0.852941 Val accuracy: 0.685714\n",
      "39 Train accuracy: 0.852941 Val accuracy: 0.685714\n",
      "40 Train accuracy: 0.852941 Val accuracy: 0.685714\n",
      "41 Train accuracy: 0.852941 Val accuracy: 0.685714\n",
      "42 Train accuracy: 0.852941 Val accuracy: 0.685714\n",
      "43 Train accuracy: 0.852941 Val accuracy: 0.685714\n",
      "44 Train accuracy: 0.852941 Val accuracy: 0.685714\n",
      "45 Train accuracy: 0.852941 Val accuracy: 0.685714\n",
      "46 Train accuracy: 0.852941 Val accuracy: 0.685714\n",
      "47 Train accuracy: 0.852941 Val accuracy: 0.685714\n",
      "48 Train accuracy: 0.852941 Val accuracy: 0.685714\n",
      "49 Train accuracy: 0.852941 Val accuracy: 0.685714\n",
      "50 Train accuracy: 0.852941 Val accuracy: 0.657143\n",
      "51 Train accuracy: 0.852941 Val accuracy: 0.685714\n",
      "52 Train accuracy: 0.882353 Val accuracy: 0.628571\n",
      "53 Train accuracy: 0.852941 Val accuracy: 0.685714\n",
      "54 Train accuracy: 0.882353 Val accuracy: 0.628571\n",
      "55 Train accuracy: 0.852941 Val accuracy: 0.685714\n",
      "56 Train accuracy: 0.882353 Val accuracy: 0.628571\n",
      "57 Train accuracy: 0.882353 Val accuracy: 0.628571\n",
      "58 Train accuracy: 0.882353 Val accuracy: 0.628571\n",
      "59 Train accuracy: 0.882353 Val accuracy: 0.628571\n",
      "60 Train accuracy: 0.882353 Val accuracy: 0.628571\n",
      "61 Train accuracy: 0.882353 Val accuracy: 0.628571\n",
      "62 Train accuracy: 0.882353 Val accuracy: 0.628571\n",
      "63 Train accuracy: 0.882353 Val accuracy: 0.628571\n",
      "64 Train accuracy: 0.882353 Val accuracy: 0.628571\n",
      "65 Train accuracy: 0.882353 Val accuracy: 0.628571\n",
      "66 Train accuracy: 0.882353 Val accuracy: 0.628571\n",
      "67 Train accuracy: 0.882353 Val accuracy: 0.628571\n",
      "68 Train accuracy: 0.882353 Val accuracy: 0.628571\n",
      "69 Train accuracy: 0.882353 Val accuracy: 0.628571\n",
      "70 Train accuracy: 0.882353 Val accuracy: 0.628571\n",
      "71 Train accuracy: 0.882353 Val accuracy: 0.628571\n",
      "72 Train accuracy: 0.882353 Val accuracy: 0.628571\n",
      "73 Train accuracy: 0.882353 Val accuracy: 0.628571\n",
      "74 Train accuracy: 0.882353 Val accuracy: 0.628571\n",
      "75 Train accuracy: 0.882353 Val accuracy: 0.628571\n",
      "76 Train accuracy: 0.882353 Val accuracy: 0.628571\n",
      "77 Train accuracy: 0.882353 Val accuracy: 0.628571\n",
      "78 Train accuracy: 0.882353 Val accuracy: 0.628571\n",
      "79 Train accuracy: 0.882353 Val accuracy: 0.628571\n",
      "80 Train accuracy: 0.882353 Val accuracy: 0.628571\n",
      "81 Train accuracy: 0.882353 Val accuracy: 0.628571\n",
      "82 Train accuracy: 0.882353 Val accuracy: 0.628571\n",
      "83 Train accuracy: 0.882353 Val accuracy: 0.628571\n",
      "84 Train accuracy: 0.882353 Val accuracy: 0.628571\n",
      "85 Train accuracy: 0.882353 Val accuracy: 0.628571\n",
      "86 Train accuracy: 0.882353 Val accuracy: 0.628571\n",
      "87 Train accuracy: 0.882353 Val accuracy: 0.628571\n",
      "88 Train accuracy: 0.882353 Val accuracy: 0.628571\n",
      "89 Train accuracy: 0.882353 Val accuracy: 0.628571\n",
      "90 Train accuracy: 0.882353 Val accuracy: 0.628571\n",
      "91 Train accuracy: 0.882353 Val accuracy: 0.628571\n",
      "92 Train accuracy: 0.882353 Val accuracy: 0.628571\n",
      "93 Train accuracy: 0.882353 Val accuracy: 0.628571\n",
      "94 Train accuracy: 0.882353 Val accuracy: 0.628571\n",
      "95 Train accuracy: 0.882353 Val accuracy: 0.628571\n",
      "96 Train accuracy: 0.882353 Val accuracy: 0.628571\n",
      "97 Train accuracy: 0.882353 Val accuracy: 0.628571\n",
      "98 Train accuracy: 0.882353 Val accuracy: 0.628571\n",
      "99 Train accuracy: 0.882353 Val accuracy: 0.628571\n"
     ]
    }
   ],
   "source": [
    "# Initialization of the computation graph\n",
    "init = tf.global_variables_initializer()\n",
    "\n",
    "# tensorflow allows to define a saver to store the model after learning\n",
    "saver = tf.train.Saver()\n",
    "\n",
    "# Number of epochs\n",
    "n_epochs = 100\n",
    "\n",
    "# Size of the batch used to update the gradient\n",
    "batch_size = 50\n",
    "\n",
    "with tf.Session() as sess:\n",
    "    init.run()\n",
    "    for epoch in range(n_epochs):\n",
    "        for iteration in range(70 // batch_size):\n",
    "            \n",
    "            #Function next_batch automatically select the batch\n",
    "#             X_batch, y_batch = mnist.train.next_batch(batch_size)\n",
    "            \n",
    "            # Weights are learned using the current batch            \n",
    "            sess.run(training_op, feed_dict={X: X_train, y: y_train})\n",
    "            \n",
    "        # Accuracies are computed in the training and validation sets    \n",
    "        acc_train = accuracy.eval(feed_dict={X:  X_train, y: y_train})\n",
    "        acc_val = accuracy.eval(feed_dict={X: X_test,\n",
    "                                            y: y_test})\n",
    "        print(epoch, \"Train accuracy:\", acc_train, \"Val accuracy:\", acc_val)"
   ]
  }
 ],
 "metadata": {
  "kernelspec": {
   "display_name": "Python 3",
   "language": "python",
   "name": "python3"
  },
  "language_info": {
   "codemirror_mode": {
    "name": "ipython",
    "version": 3
   },
   "file_extension": ".py",
   "mimetype": "text/x-python",
   "name": "python",
   "nbconvert_exporter": "python",
   "pygments_lexer": "ipython3",
   "version": "3.6.3"
  }
 },
 "nbformat": 4,
 "nbformat_minor": 2
}
